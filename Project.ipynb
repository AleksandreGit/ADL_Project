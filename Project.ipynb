{
 "cells": [
  {
   "cell_type": "code",
   "execution_count": 1,
   "metadata": {},
   "outputs": [],
   "source": [
    "import torch\n",
    "import torch.nn as nn\n",
    "import torchvision.transforms as transforms\n",
    "import torchvision\n",
    "import numpy as np\n",
    "import torch.nn.functional as F\n",
    "import os\n",
    "import random \n",
    "from sklearn.manifold import TSNE\n",
    "from sklearn.decomposition import PCA\n",
    "from matplotlib import pyplot as plt\n",
    "import torch.utils.data\n",
    "import torch.optim as optim\n",
    "from torch.utils.tensorboard import SummaryWriter\n",
    "from tqdm import tqdm\n",
    "from sklearn.metrics import f1_score\n",
    "from sklearn.metrics import confusion_matrix, ConfusionMatrixDisplay\n",
    "from PIL import Image\n",
    "import cv2"
   ]
  },
  {
   "cell_type": "markdown",
   "metadata": {},
   "source": [
    "## TOC: <a class=\"anchor\" id=\"top\"></a>\n",
    "* [Dataset and basic CNN](#part1)\n",
    "* [Save/Load Model](#part2)\n",
    "* [Visualization of model](#part3)\n",
    "* [EfficientNet](#part4)"
   ]
  },
  {
   "cell_type": "markdown",
   "metadata": {},
   "source": [
    "# Dataset and basic CNN <a class=\"anchor\" id=\"part1\"></a>\n",
    "[Goto top](#top)"
   ]
  },
  {
   "cell_type": "code",
   "execution_count": 61,
   "metadata": {},
   "outputs": [],
   "source": [
    "writer = SummaryWriter()\n",
    "\n",
    "traindir = \"./train\"\n",
    "traindir_healthy = \"./train_h\"\n",
    "valdir = \"./val\"\n",
    "testdir = \"./test\"\n",
    "\n",
    "# Train\n",
    "traindata_healthy = torchvision.datasets.ImageFolder(traindir_healthy,transforms.Compose([\n",
    "        transforms.Grayscale(),\n",
    "        transforms.Resize((100,100)),\n",
    "        transforms.RandomRotation((-75, 75)),\n",
    "        transforms.RandomHorizontalFlip(),\n",
    "        transforms.ToTensor(),\n",
    "        transforms.Normalize(mean=[0.485], std=[0.229]),\n",
    "       ]))\n",
    "\n",
    "traindata = torchvision.datasets.ImageFolder(traindir,transforms.Compose([\n",
    "        transforms.Grayscale(),\n",
    "        transforms.Resize((100,100)),\n",
    "        transforms.RandomRotation((-75, 75)),\n",
    "        transforms.RandomHorizontalFlip(),\n",
    "        transforms.ToTensor(),\n",
    "        transforms.Normalize(mean=[0.485], std=[0.229]),\n",
    "       ]))\n",
    "\n",
    "traindata = traindata + traindata_healthy\n",
    "\n",
    "# Validation set\n",
    "valdata = torchvision.datasets.ImageFolder(valdir,transforms.Compose([\n",
    "        transforms.Grayscale(),\n",
    "        transforms.Resize((100,100)),\n",
    "        transforms.ToTensor(),\n",
    "        transforms.Normalize(mean=[0.485], std=[0.229]),\n",
    "       ]))\n",
    "\n",
    "# Test set\n",
    "testdata = torchvision.datasets.ImageFolder(testdir,transforms.Compose([\n",
    "        transforms.Grayscale(),\n",
    "        transforms.Resize((100,100)),\n",
    "        transforms.ToTensor(),\n",
    "        transforms.Normalize(mean=[0.485], std=[0.229]),\n",
    "       ]))\n",
    "\n",
    "\n",
    "\n",
    "\n",
    "\n",
    "test_loader = torch.utils.data.DataLoader(testdata,batch_size=50, \n",
    "                                          shuffle=False)\n",
    "train_loader = torch.utils.data.DataLoader(traindata,batch_size=50,\n",
    "                                           shuffle=True)\n",
    "val_loader = torch.utils.data.DataLoader(valdata,batch_size=50,\n",
    "                                         shuffle=True)"
   ]
  },
  {
   "cell_type": "markdown",
   "metadata": {},
   "source": [
    "## Check for the ratio of datasets"
   ]
  },
  {
   "cell_type": "code",
   "execution_count": 62,
   "metadata": {},
   "outputs": [
    {
     "name": "stderr",
     "output_type": "stream",
     "text": [
      "100%|████████████████████████████████████████████████████████████████████████████████| 158/158 [09:04<00:00,  3.45s/it]"
     ]
    },
    {
     "name": "stdout",
     "output_type": "stream",
     "text": [
      "Healthy:  4023\n",
      "Sick:  3875\n",
      "Ratio:  0.9632115336813324\n"
     ]
    },
    {
     "name": "stderr",
     "output_type": "stream",
     "text": [
      "\n"
     ]
    }
   ],
   "source": [
    "healthy = 0\n",
    "sick = 0\n",
    "for i, data in enumerate(tqdm(train_loader), 0):\n",
    "    image, label = data\n",
    "    for l in label:\n",
    "        if l == 0:\n",
    "            healthy += 1\n",
    "        else:\n",
    "            sick += 1\n",
    "\n",
    "print(\"Healthy: \", healthy)\n",
    "print(\"Sick: \", sick)\n",
    "print(\"Ratio: \", sick/healthy)"
   ]
  },
  {
   "cell_type": "code",
   "execution_count": 63,
   "metadata": {},
   "outputs": [
    {
     "name": "stderr",
     "output_type": "stream",
     "text": [
      "100%|████████████████████████████████████████████████████████████████████████████████████| 1/1 [00:00<00:00,  1.22it/s]"
     ]
    },
    {
     "name": "stdout",
     "output_type": "stream",
     "text": [
      "Healthy:  8\n",
      "Sick:  8\n",
      "Ratio:  1.0\n"
     ]
    },
    {
     "name": "stderr",
     "output_type": "stream",
     "text": [
      "\n"
     ]
    }
   ],
   "source": [
    "healthy = 0\n",
    "sick = 0\n",
    "for i, data in enumerate(tqdm(val_loader), 0):\n",
    "    image, label = data\n",
    "    for l in label:\n",
    "        if l == 0:\n",
    "            healthy += 1\n",
    "        else:\n",
    "            sick += 1\n",
    "\n",
    "print(\"Healthy: \", healthy)\n",
    "print(\"Sick: \",sick)\n",
    "print(\"Ratio: \", sick/healthy)"
   ]
  },
  {
   "cell_type": "code",
   "execution_count": 64,
   "metadata": {},
   "outputs": [
    {
     "name": "stderr",
     "output_type": "stream",
     "text": [
      "100%|██████████████████████████████████████████████████████████████████████████████████| 13/13 [00:30<00:00,  2.38s/it]"
     ]
    },
    {
     "name": "stdout",
     "output_type": "stream",
     "text": [
      "Healthy:  234\n",
      "Sick:  390\n",
      "Ratio:  1.6666666666666667\n"
     ]
    },
    {
     "name": "stderr",
     "output_type": "stream",
     "text": [
      "\n"
     ]
    }
   ],
   "source": [
    "healthy = 0\n",
    "sick = 0\n",
    "for i, data in enumerate(tqdm(test_loader), 0):\n",
    "    image, label = data\n",
    "    for l in label:\n",
    "        if l == 0:\n",
    "            healthy += 1\n",
    "        else:\n",
    "            sick += 1\n",
    "\n",
    "print(\"Healthy: \", healthy)\n",
    "print(\"Sick: \",sick)\n",
    "print(\"Ratio: \", sick/healthy)"
   ]
  },
  {
   "cell_type": "markdown",
   "metadata": {},
   "source": [
    "## CNN declarations"
   ]
  },
  {
   "cell_type": "code",
   "execution_count": 2,
   "metadata": {},
   "outputs": [],
   "source": [
    "class CNN(nn.Module):\n",
    "    def __init__(self,activation_function):\n",
    "        super().__init__()\n",
    "        self.conv = nn.Sequential(\n",
    "            nn.Conv2d(1, 12, 5),\n",
    "            activation_function(),\n",
    "            nn.MaxPool2d(2, stride = 2),\n",
    "            nn.BatchNorm2d(12),\n",
    "            nn.Conv2d(12, 12, 3),\n",
    "            activation_function(),\n",
    "            nn.Conv2d(12, 16, 3),\n",
    "            activation_function(),            \n",
    "            nn.Conv2d(16, 12, 3),\n",
    "            activation_function(),\n",
    "            nn.Conv2d(12, 12, 3),\n",
    "            nn.Dropout(p=0.3),\n",
    "            activation_function(),\n",
    "            nn.MaxPool2d(2, stride = 2)\n",
    "            \n",
    "            \n",
    "        )\n",
    "        self.linear_lay = nn.Sequential(\n",
    "            nn.Linear(4800, 1000),\n",
    "            nn.BatchNorm1d(1000),\n",
    "            activation_function(),\n",
    "            nn.Linear(1000, 100),\n",
    "            nn.Dropout(p=0.3),\n",
    "            activation_function(),\n",
    "            nn.Linear(100, 10),\n",
    "            activation_function(),\n",
    "            nn.Linear(10,2)\n",
    "        )\n",
    "        \n",
    "    def forward(self, x):\n",
    "        x = self.conv(x)\n",
    "        x = x.view(x.size(0),-1)\n",
    "        x = self.linear_lay(x)\n",
    "        \n",
    "        return F.softmax(x, dim=1)"
   ]
  },
  {
   "cell_type": "code",
   "execution_count": 3,
   "metadata": {},
   "outputs": [],
   "source": [
    "class CNN2(nn.Module):\n",
    "    def __init__(self,activation_function):\n",
    "        super().__init__()\n",
    "        self.conv = nn.Sequential(\n",
    "            nn.Conv2d(1, 12, 3),\n",
    "            activation_function(),\n",
    "            nn.MaxPool2d(2, stride = 2),\n",
    "            nn.BatchNorm2d(12),\n",
    "            nn.Conv2d(12, 18, 3),\n",
    "            activation_function(),\n",
    "            nn.MaxPool2d(2, stride = 2),\n",
    "            nn.Conv2d(18, 24, 3),\n",
    "            activation_function()\n",
    "            \n",
    "        )\n",
    "        self.linear_lay = nn.Sequential(\n",
    "            nn.Linear(10584, 1000),\n",
    "            nn.BatchNorm1d(1000),\n",
    "            nn.Dropout(p=0.3),\n",
    "            activation_function(),\n",
    "            nn.Linear(1000, 100),\n",
    "            nn.Dropout(p=0.3),\n",
    "            activation_function(),\n",
    "            nn.Linear(100, 10),\n",
    "            activation_function(),\n",
    "            nn.Linear(10,2)\n",
    "        )\n",
    "        \n",
    "    def forward(self, x):\n",
    "        x = self.conv(x)\n",
    "        x = x.view(x.size(0),-1)\n",
    "        x = self.linear_lay(x)\n",
    "        \n",
    "        return F.softmax(x, dim=1)"
   ]
  },
  {
   "cell_type": "markdown",
   "metadata": {},
   "source": [
    "## Helper functions for training"
   ]
  },
  {
   "cell_type": "code",
   "execution_count": 67,
   "metadata": {},
   "outputs": [],
   "source": [
    "def test(model, loader):\n",
    "    correct = 0\n",
    "    total = 0\n",
    "    correct_labels = []\n",
    "    predicted_labels = []\n",
    "    with torch.no_grad():\n",
    "        for i, data in enumerate(tqdm(loader), 0):\n",
    "            image, label = data\n",
    "            pred = model(image)\n",
    "        \n",
    "            for i in label:\n",
    "                pred_i = torch.argmax(pred[i])\n",
    "                if pred_i == label[i]:\n",
    "                    correct += 1\n",
    "                                \n",
    "                correct_labels.append(label[i].item())\n",
    "                predicted_labels.append(pred_i.item())\n",
    "                total += 1\n",
    "                \n",
    "    print(\"F1-score: \", f1_score(correct_labels, predicted_labels))\n",
    "    print(\"The models accuracy is \", correct/total*100, \"% of total \",total)\n",
    "    cm = confusion_matrix(correct_labels, predicted_labels, labels=[1,0])\n",
    "    disp = ConfusionMatrixDisplay(confusion_matrix=cm,display_labels=[\"sick\",\"healthy\"])\n",
    "    disp.plot() "
   ]
  },
  {
   "cell_type": "code",
   "execution_count": 68,
   "metadata": {},
   "outputs": [],
   "source": [
    "def validate(model, validationLoader):\n",
    "    finalLoss = 0\n",
    "    criterion = nn.CrossEntropyLoss()\n",
    "    with torch.no_grad():\n",
    "        for i, data in enumerate(validationLoader, 0):\n",
    "            image, label = data\n",
    "            outputs = model(image)\n",
    "            loss = criterion(outputs, label)\n",
    "            finalLoss += loss\n",
    "            \n",
    "    return finalLoss/(i+1)"
   ]
  },
  {
   "cell_type": "code",
   "execution_count": 69,
   "metadata": {},
   "outputs": [],
   "source": [
    "def train_model(model, loss_function, optimizer, loader, val_loader, nr_epochs, log_name, scheduler=None):\n",
    "    for epoch in range(nr_epochs):  # loop over the dataset multiple times\n",
    "        train_loss = 0.0\n",
    "        for i, data in enumerate(tqdm(loader), 0):\n",
    "            # get the inputs; data is a list of [inputs, labels]\n",
    "            inputs, labels = data\n",
    "\n",
    "            # zero the parameter gradients\n",
    "            optimizer.zero_grad()\n",
    "\n",
    "            # forward + backward + optimize\n",
    "            outputs = model(inputs)\n",
    "            loss = loss_function(outputs, labels)\n",
    "            loss.backward()\n",
    "            optimizer.step()\n",
    "\n",
    "            # print statistics\n",
    "            train_loss += loss.item()\n",
    "\n",
    "        val_loss = validate(model, val_loader)\n",
    "\n",
    "        print('[Epoch %d] Train loss: %.4f Val loss: %.4f' %\n",
    "              (epoch + 1, train_loss / i, val_loss))\n",
    "\n",
    "        writer.add_scalars(log_name, {\n",
    "            'train_loss': train_loss/i,\n",
    "            'val_loss': val_loss,\n",
    "        }, epoch)\n",
    "        \n",
    "        if scheduler:\n",
    "            scheduler.step()"
   ]
  },
  {
   "cell_type": "markdown",
   "metadata": {},
   "source": [
    "## CNN_V2"
   ]
  },
  {
   "cell_type": "code",
   "execution_count": 70,
   "metadata": {},
   "outputs": [
    {
     "name": "stderr",
     "output_type": "stream",
     "text": [
      "100%|████████████████████████████████████████████████████████████████████████████████| 158/158 [09:25<00:00,  3.58s/it]\n"
     ]
    },
    {
     "name": "stdout",
     "output_type": "stream",
     "text": [
      "[Epoch 1] Train loss: 0.4831 Val loss: 0.5211\n"
     ]
    },
    {
     "name": "stderr",
     "output_type": "stream",
     "text": [
      "100%|████████████████████████████████████████████████████████████████████████████████| 158/158 [09:03<00:00,  3.44s/it]\n",
      "  0%|                                                                                          | 0/158 [00:00<?, ?it/s]"
     ]
    },
    {
     "name": "stdout",
     "output_type": "stream",
     "text": [
      "[Epoch 2] Train loss: 0.3870 Val loss: 0.5389\n"
     ]
    },
    {
     "name": "stderr",
     "output_type": "stream",
     "text": [
      "100%|████████████████████████████████████████████████████████████████████████████████| 158/158 [08:40<00:00,  3.29s/it]\n",
      "  0%|                                                                                          | 0/158 [00:00<?, ?it/s]"
     ]
    },
    {
     "name": "stdout",
     "output_type": "stream",
     "text": [
      "[Epoch 3] Train loss: 0.3773 Val loss: 0.4762\n"
     ]
    },
    {
     "name": "stderr",
     "output_type": "stream",
     "text": [
      "100%|████████████████████████████████████████████████████████████████████████████████| 158/158 [07:57<00:00,  3.02s/it]\n",
      "  0%|                                                                                          | 0/158 [00:00<?, ?it/s]"
     ]
    },
    {
     "name": "stdout",
     "output_type": "stream",
     "text": [
      "[Epoch 4] Train loss: 0.3699 Val loss: 0.5098\n"
     ]
    },
    {
     "name": "stderr",
     "output_type": "stream",
     "text": [
      "100%|████████████████████████████████████████████████████████████████████████████████| 158/158 [06:38<00:00,  2.52s/it]\n",
      "  0%|                                                                                          | 0/158 [00:00<?, ?it/s]"
     ]
    },
    {
     "name": "stdout",
     "output_type": "stream",
     "text": [
      "[Epoch 5] Train loss: 0.3705 Val loss: 0.5310\n"
     ]
    },
    {
     "name": "stderr",
     "output_type": "stream",
     "text": [
      "100%|████████████████████████████████████████████████████████████████████████████████| 158/158 [05:34<00:00,  2.11s/it]\n",
      "  0%|                                                                                          | 0/158 [00:00<?, ?it/s]"
     ]
    },
    {
     "name": "stdout",
     "output_type": "stream",
     "text": [
      "[Epoch 6] Train loss: 0.3670 Val loss: 0.5367\n"
     ]
    },
    {
     "name": "stderr",
     "output_type": "stream",
     "text": [
      "100%|████████████████████████████████████████████████████████████████████████████████| 158/158 [05:25<00:00,  2.06s/it]\n",
      "  0%|                                                                                          | 0/158 [00:00<?, ?it/s]"
     ]
    },
    {
     "name": "stdout",
     "output_type": "stream",
     "text": [
      "[Epoch 7] Train loss: 0.3668 Val loss: 0.5191\n"
     ]
    },
    {
     "name": "stderr",
     "output_type": "stream",
     "text": [
      "100%|████████████████████████████████████████████████████████████████████████████████| 158/158 [05:07<00:00,  1.95s/it]\n",
      "  0%|                                                                                          | 0/158 [00:00<?, ?it/s]"
     ]
    },
    {
     "name": "stdout",
     "output_type": "stream",
     "text": [
      "[Epoch 8] Train loss: 0.3634 Val loss: 0.5541\n"
     ]
    },
    {
     "name": "stderr",
     "output_type": "stream",
     "text": [
      "100%|████████████████████████████████████████████████████████████████████████████████| 158/158 [04:56<00:00,  1.88s/it]\n",
      "  0%|                                                                                          | 0/158 [00:00<?, ?it/s]"
     ]
    },
    {
     "name": "stdout",
     "output_type": "stream",
     "text": [
      "[Epoch 9] Train loss: 0.3639 Val loss: 0.5409\n"
     ]
    },
    {
     "name": "stderr",
     "output_type": "stream",
     "text": [
      "100%|████████████████████████████████████████████████████████████████████████████████| 158/158 [04:52<00:00,  1.85s/it]\n",
      "  0%|                                                                                          | 0/158 [00:00<?, ?it/s]"
     ]
    },
    {
     "name": "stdout",
     "output_type": "stream",
     "text": [
      "[Epoch 10] Train loss: 0.3631 Val loss: 0.5610\n"
     ]
    },
    {
     "name": "stderr",
     "output_type": "stream",
     "text": [
      "100%|████████████████████████████████████████████████████████████████████████████████| 158/158 [04:57<00:00,  1.88s/it]\n",
      "  0%|                                                                                          | 0/158 [00:00<?, ?it/s]"
     ]
    },
    {
     "name": "stdout",
     "output_type": "stream",
     "text": [
      "[Epoch 11] Train loss: 0.3597 Val loss: 0.5464\n"
     ]
    },
    {
     "name": "stderr",
     "output_type": "stream",
     "text": [
      "100%|████████████████████████████████████████████████████████████████████████████████| 158/158 [04:54<00:00,  1.86s/it]\n",
      "  0%|                                                                                          | 0/158 [00:00<?, ?it/s]"
     ]
    },
    {
     "name": "stdout",
     "output_type": "stream",
     "text": [
      "[Epoch 12] Train loss: 0.3582 Val loss: 0.4701\n"
     ]
    },
    {
     "name": "stderr",
     "output_type": "stream",
     "text": [
      "100%|████████████████████████████████████████████████████████████████████████████████| 158/158 [04:59<00:00,  1.89s/it]\n",
      "  0%|                                                                                          | 0/158 [00:00<?, ?it/s]"
     ]
    },
    {
     "name": "stdout",
     "output_type": "stream",
     "text": [
      "[Epoch 13] Train loss: 0.3579 Val loss: 0.5587\n"
     ]
    },
    {
     "name": "stderr",
     "output_type": "stream",
     "text": [
      "100%|████████████████████████████████████████████████████████████████████████████████| 158/158 [05:06<00:00,  1.94s/it]\n",
      "  0%|                                                                                          | 0/158 [00:00<?, ?it/s]"
     ]
    },
    {
     "name": "stdout",
     "output_type": "stream",
     "text": [
      "[Epoch 14] Train loss: 0.3588 Val loss: 0.5755\n"
     ]
    },
    {
     "name": "stderr",
     "output_type": "stream",
     "text": [
      "100%|████████████████████████████████████████████████████████████████████████████████| 158/158 [04:48<00:00,  1.83s/it]\n"
     ]
    },
    {
     "name": "stdout",
     "output_type": "stream",
     "text": [
      "[Epoch 15] Train loss: 0.3588 Val loss: 0.5466\n"
     ]
    },
    {
     "name": "stderr",
     "output_type": "stream",
     "text": [
      "100%|████████████████████████████████████████████████████████████████████████████████| 158/158 [05:02<00:00,  1.91s/it]\n",
      "  0%|                                                                                          | 0/158 [00:00<?, ?it/s]"
     ]
    },
    {
     "name": "stdout",
     "output_type": "stream",
     "text": [
      "[Epoch 16] Train loss: 0.3568 Val loss: 0.5628\n"
     ]
    },
    {
     "name": "stderr",
     "output_type": "stream",
     "text": [
      "100%|████████████████████████████████████████████████████████████████████████████████| 158/158 [04:50<00:00,  1.84s/it]\n"
     ]
    },
    {
     "name": "stdout",
     "output_type": "stream",
     "text": [
      "[Epoch 17] Train loss: 0.3575 Val loss: 0.5818\n"
     ]
    },
    {
     "name": "stderr",
     "output_type": "stream",
     "text": [
      "100%|████████████████████████████████████████████████████████████████████████████████| 158/158 [04:50<00:00,  1.84s/it]\n"
     ]
    },
    {
     "name": "stdout",
     "output_type": "stream",
     "text": [
      "[Epoch 18] Train loss: 0.3551 Val loss: 0.6112\n"
     ]
    },
    {
     "name": "stderr",
     "output_type": "stream",
     "text": [
      "100%|████████████████████████████████████████████████████████████████████████████████| 158/158 [04:50<00:00,  1.84s/it]\n",
      "  0%|                                                                                          | 0/158 [00:00<?, ?it/s]"
     ]
    },
    {
     "name": "stdout",
     "output_type": "stream",
     "text": [
      "[Epoch 19] Train loss: 0.3584 Val loss: 0.5002\n"
     ]
    },
    {
     "name": "stderr",
     "output_type": "stream",
     "text": [
      "100%|████████████████████████████████████████████████████████████████████████████████| 158/158 [04:48<00:00,  1.83s/it]\n",
      "  0%|                                                                                          | 0/158 [00:00<?, ?it/s]"
     ]
    },
    {
     "name": "stdout",
     "output_type": "stream",
     "text": [
      "[Epoch 20] Train loss: 0.3557 Val loss: 0.5101\n"
     ]
    },
    {
     "name": "stderr",
     "output_type": "stream",
     "text": [
      "100%|████████████████████████████████████████████████████████████████████████████████| 158/158 [04:57<00:00,  1.88s/it]\n",
      "  0%|                                                                                          | 0/158 [00:00<?, ?it/s]"
     ]
    },
    {
     "name": "stdout",
     "output_type": "stream",
     "text": [
      "[Epoch 21] Train loss: 0.3566 Val loss: 0.4953\n"
     ]
    },
    {
     "name": "stderr",
     "output_type": "stream",
     "text": [
      "100%|████████████████████████████████████████████████████████████████████████████████| 158/158 [05:24<00:00,  2.06s/it]\n",
      "  0%|                                                                                          | 0/158 [00:00<?, ?it/s]"
     ]
    },
    {
     "name": "stdout",
     "output_type": "stream",
     "text": [
      "[Epoch 22] Train loss: 0.3538 Val loss: 0.5815\n"
     ]
    },
    {
     "name": "stderr",
     "output_type": "stream",
     "text": [
      "100%|████████████████████████████████████████████████████████████████████████████████| 158/158 [05:23<00:00,  2.05s/it]\n",
      "  0%|                                                                                          | 0/158 [00:00<?, ?it/s]"
     ]
    },
    {
     "name": "stdout",
     "output_type": "stream",
     "text": [
      "[Epoch 23] Train loss: 0.3501 Val loss: 0.6192\n"
     ]
    },
    {
     "name": "stderr",
     "output_type": "stream",
     "text": [
      "100%|████████████████████████████████████████████████████████████████████████████████| 158/158 [05:19<00:00,  2.02s/it]\n",
      "  0%|                                                                                          | 0/158 [00:00<?, ?it/s]"
     ]
    },
    {
     "name": "stdout",
     "output_type": "stream",
     "text": [
      "[Epoch 24] Train loss: 0.3544 Val loss: 0.5789\n"
     ]
    },
    {
     "name": "stderr",
     "output_type": "stream",
     "text": [
      "100%|████████████████████████████████████████████████████████████████████████████████| 158/158 [05:44<00:00,  2.18s/it]\n",
      "  0%|                                                                                          | 0/158 [00:00<?, ?it/s]"
     ]
    },
    {
     "name": "stdout",
     "output_type": "stream",
     "text": [
      "[Epoch 25] Train loss: 0.3541 Val loss: 0.5562\n"
     ]
    },
    {
     "name": "stderr",
     "output_type": "stream",
     "text": [
      "100%|████████████████████████████████████████████████████████████████████████████████| 158/158 [05:47<00:00,  2.20s/it]\n",
      "  0%|                                                                                          | 0/158 [00:00<?, ?it/s]"
     ]
    },
    {
     "name": "stdout",
     "output_type": "stream",
     "text": [
      "[Epoch 26] Train loss: 0.3510 Val loss: 0.5510\n"
     ]
    },
    {
     "name": "stderr",
     "output_type": "stream",
     "text": [
      "100%|████████████████████████████████████████████████████████████████████████████████| 158/158 [05:41<00:00,  2.16s/it]\n",
      "  0%|                                                                                          | 0/158 [00:00<?, ?it/s]"
     ]
    },
    {
     "name": "stdout",
     "output_type": "stream",
     "text": [
      "[Epoch 27] Train loss: 0.3525 Val loss: 0.6238\n"
     ]
    },
    {
     "name": "stderr",
     "output_type": "stream",
     "text": [
      "100%|████████████████████████████████████████████████████████████████████████████████| 158/158 [05:39<00:00,  2.15s/it]\n",
      "  0%|                                                                                          | 0/158 [00:00<?, ?it/s]"
     ]
    },
    {
     "name": "stdout",
     "output_type": "stream",
     "text": [
      "[Epoch 28] Train loss: 0.3527 Val loss: 0.6780\n"
     ]
    },
    {
     "name": "stderr",
     "output_type": "stream",
     "text": [
      "100%|████████████████████████████████████████████████████████████████████████████████| 158/158 [05:42<00:00,  2.17s/it]\n",
      "  0%|                                                                                          | 0/158 [00:00<?, ?it/s]"
     ]
    },
    {
     "name": "stdout",
     "output_type": "stream",
     "text": [
      "[Epoch 29] Train loss: 0.3522 Val loss: 0.6016\n"
     ]
    },
    {
     "name": "stderr",
     "output_type": "stream",
     "text": [
      "100%|████████████████████████████████████████████████████████████████████████████████| 158/158 [05:50<00:00,  2.22s/it]\n"
     ]
    },
    {
     "name": "stdout",
     "output_type": "stream",
     "text": [
      "[Epoch 30] Train loss: 0.3493 Val loss: 0.5662\n"
     ]
    }
   ],
   "source": [
    "CNN_V2 = CNN(nn.LeakyReLU)\n",
    "loss_function = nn.CrossEntropyLoss()\n",
    "optimizer = optim.Adam(CNN_V2.parameters(), lr=0.0001)\n",
    "\n",
    "decayRate = 0.96\n",
    "scheduler = torch.optim.lr_scheduler.ExponentialLR(optimizer=optimizer, gamma=decayRate)\n",
    "\n",
    "train_model(CNN_V2, loss_function, optimizer, train_loader, val_loader, 30, \"CNN_V2\", scheduler)"
   ]
  },
  {
   "cell_type": "code",
   "execution_count": 72,
   "metadata": {},
   "outputs": [
    {
     "name": "stderr",
     "output_type": "stream",
     "text": [
      "100%|██████████████████████████████████████████████████████████████████████████████████| 13/13 [00:18<00:00,  1.40s/it]\n",
      "  0%|                                                                                           | 0/13 [00:00<?, ?it/s]"
     ]
    },
    {
     "name": "stdout",
     "output_type": "stream",
     "text": [
      "F1-score:  0.9565217391304348\n",
      "The models accuracy is  94.55128205128204 % of total  624\n"
     ]
    },
    {
     "name": "stderr",
     "output_type": "stream",
     "text": [
      "100%|██████████████████████████████████████████████████████████████████████████████████| 13/13 [00:18<00:00,  1.44s/it]\n"
     ]
    },
    {
     "name": "stdout",
     "output_type": "stream",
     "text": [
      "F1-score:  0.7598784194528876\n",
      "The models accuracy is  74.67948717948718 % of total  624\n"
     ]
    },
    {
     "data": {
      "image/png": "[encoded data removed]",
      "text/plain": [
       "<Figure size 432x288 with 2 Axes>"
      ]
     },
     "metadata": {
      "needs_background": "light"
     },
     "output_type": "display_data"
    },
    {
     "data": {
      "image/png": "[encoded data removed]",
      "text/plain": [
       "<Figure size 432x288 with 2 Axes>"
      ]
     },
     "metadata": {
      "needs_background": "light"
     },
     "output_type": "display_data"
    }
   ],
   "source": [
    "test(Normal_CNN_94, test_loader)\n",
    "test(CNN_V2, test_loader)"
   ]
  },
  {
   "cell_type": "markdown",
   "metadata": {},
   "source": [
    "# Save/Load Model <a class=\"anchor\" id=\"part2\"></a>\n",
    "[Goto top](#top)"
   ]
  },
  {
   "cell_type": "code",
   "execution_count": 73,
   "metadata": {},
   "outputs": [],
   "source": [
    "torch.save(CNN_V2.state_dict(), \"./models/CNN_V2\")"
   ]
  },
  {
   "cell_type": "code",
   "execution_count": 10,
   "metadata": {},
   "outputs": [
    {
     "data": {
      "text/plain": [
       "CNN2(\n",
       "  (conv): Sequential(\n",
       "    (0): Conv2d(1, 12, kernel_size=(3, 3), stride=(1, 1))\n",
       "    (1): LeakyReLU(negative_slope=0.01)\n",
       "    (2): MaxPool2d(kernel_size=2, stride=2, padding=0, dilation=1, ceil_mode=False)\n",
       "    (3): BatchNorm2d(12, eps=1e-05, momentum=0.1, affine=True, track_running_stats=True)\n",
       "    (4): Conv2d(12, 18, kernel_size=(3, 3), stride=(1, 1))\n",
       "    (5): LeakyReLU(negative_slope=0.01)\n",
       "    (6): MaxPool2d(kernel_size=2, stride=2, padding=0, dilation=1, ceil_mode=False)\n",
       "    (7): Conv2d(18, 24, kernel_size=(3, 3), stride=(1, 1))\n",
       "    (8): LeakyReLU(negative_slope=0.01)\n",
       "  )\n",
       "  (linear_lay): Sequential(\n",
       "    (0): Linear(in_features=10584, out_features=1000, bias=True)\n",
       "    (1): BatchNorm1d(1000, eps=1e-05, momentum=0.1, affine=True, track_running_stats=True)\n",
       "    (2): Dropout(p=0.3, inplace=False)\n",
       "    (3): LeakyReLU(negative_slope=0.01)\n",
       "    (4): Linear(in_features=1000, out_features=100, bias=True)\n",
       "    (5): Dropout(p=0.3, inplace=False)\n",
       "    (6): LeakyReLU(negative_slope=0.01)\n",
       "    (7): Linear(in_features=100, out_features=10, bias=True)\n",
       "    (8): LeakyReLU(negative_slope=0.01)\n",
       "    (9): Linear(in_features=10, out_features=2, bias=True)\n",
       "  )\n",
       ")"
      ]
     },
     "execution_count": 10,
     "metadata": {},
     "output_type": "execute_result"
    }
   ],
   "source": [
    "Normal_CNN_94 = CNN2(nn.LeakyReLU)\n",
    "Normal_CNN_94.load_state_dict(torch.load(\"./models/Normal_CNN_94\"))\n",
    "Normal_CNN_94.eval()"
   ]
  },
  {
   "cell_type": "markdown",
   "metadata": {},
   "source": [
    "# Visualization of model <a class=\"anchor\" id=\"part3\"></a>\n",
    "[Goto top](#top)"
   ]
  },
  {
   "cell_type": "markdown",
   "metadata": {},
   "source": [
    "### Heatmaps"
   ]
  },
  {
   "cell_type": "code",
   "execution_count": 4,
   "metadata": {},
   "outputs": [],
   "source": [
    "# Reference to function: https://www.programmersought.com/article/86424799232/\n",
    "\n",
    "def draw_CAM(model, img_path, save_path,rnge, transform=None, visual_heatmap=False):\n",
    "    '''\n",
    "    Draw the Class Activation Map\n",
    "         :param model: Pytorch model with weights loaded\n",
    "         :param img_path: test image path\n",
    "         :param save_path: CAM result save path\n",
    "         :param transform: input image preprocessing method\n",
    "         :param visual_heatmap: Whether to visualize the original heatmap (call matplotlib)\n",
    "    :return:\n",
    "    '''\n",
    "    \n",
    "    # Image loading & preprocessing\n",
    "    img = Image.open(img_path)\n",
    "    if transform:\n",
    "        img = transform(img)\n",
    "    img = img.unsqueeze(0)\n",
    "\n",
    "    # Get the feature/score of the model output\n",
    "    model.eval()\n",
    "    \n",
    "    features = model.conv(img)\n",
    "    \n",
    "    \n",
    "    features2 = features.view(features.size(0),-1)\n",
    "    output = model.linear_lay(features2)\n",
    "\n",
    "         # In order to be able to read the auxiliary function defined by the intermediate gradient\n",
    "    def extract(g):\n",
    "        global features_grad\n",
    "        features_grad = g\n",
    "\n",
    "         # Predict the output score corresponding to the category with the highest score\n",
    "    pred = torch.argmax(output).item()\n",
    "    pred_class = output[:, pred]\n",
    "\n",
    "    features.register_hook(extract)\n",
    "    pred_class.backward() # calculate the gradient\n",
    "\n",
    "    grads = features_grad # Get gradient\n",
    "    pooled_grads = torch.nn.functional.adaptive_avg_pool2d(grads, (1, 1))\n",
    "\n",
    "    # Here the batch size defaults to 1, so the 0th dimension (batch size dimension) is removed\n",
    "    pooled_grads = pooled_grads[0]\n",
    "    features = features[0]\n",
    "\n",
    "    # 512 is the number of channels in the last layer of feature\n",
    "    for i in range(rnge):\n",
    "        features[i, ...] *= pooled_grads[i, ...]\n",
    "\n",
    "    # The following parts are implemented with Keras version\n",
    "    heatmap = features.detach().numpy()\n",
    "    heatmap = np.mean(heatmap, axis=0)\n",
    "\n",
    "    heatmap = np.maximum(heatmap, 0)\n",
    "    heatmap /= np.max(heatmap)\n",
    "\n",
    "    # Visualize the original heat map\n",
    "    if visual_heatmap:\n",
    "        plt.matshow(heatmap)\n",
    "        plt.show()\n",
    "\n",
    "    img = cv2.imread(img_path) # Load the original image with cv2\n",
    "    heatmap = cv2.resize(heatmap, (img.shape[1], img.shape[0])) # Adjust the size of the heat map to be the same as the original image\n",
    "    heatmap = np.uint8(255 * heatmap) # Convert the heat map to RGB format\n",
    "    heatmap = cv2.applyColorMap(heatmap, cv2.COLORMAP_JET) # Apply the heat map to the original image\n",
    "    superimposed_img = heatmap * 0.4 + img # here 0.4 is the heat map intensity factor\n",
    "    cv2.imwrite(save_path, superimposed_img) # save the image to the hard disk\n"
   ]
  },
  {
   "cell_type": "code",
   "execution_count": 47,
   "metadata": {},
   "outputs": [
    {
     "name": "stderr",
     "output_type": "stream",
     "text": [
      "C:\\Users\\David Eriksson\\anaconda3\\envs\\nnlm\\lib\\site-packages\\ipykernel_launcher.py:68: RuntimeWarning: invalid value encountered in true_divide\n"
     ]
    }
   ],
   "source": [
    "preprocess = transforms.Compose([\n",
    "            transforms.Grayscale(),\n",
    "            transforms.Resize((100,100)),\n",
    "            transforms.ToTensor(),\n",
    "        ])\n",
    "\n",
    "CNN_Clean = CNN2(nn.LeakyReLU)\n",
    "optimizer = optim.Adam(CNN_Clean.parameters(), lr=0.0001)\n",
    "\n",
    "sick = [\"person60_virus_117.jpeg\", \"person78_bacteria_381.jpeg\", \"person81_bacteria_395.jpeg\", \"person83_bacteria_412.jpeg\", \"person90_bacteria_443.jpeg\"]\n",
    "healthy = [\"IM-0016-0001.jpeg\", \"IM-0033-0001-0001.jpeg\", \"IM-0063-0001.jpeg\", \"IM-0086-0001.jpeg\", \"IM-0103-0001.jpeg\"]\n",
    "\n",
    "for img in sick:\n",
    "    draw_CAM(CNN_Clean, \"./test/PNEUMONIA/\"+img, \"./heatmaps/PNEUMONIA_\"+str(sick.index(img))+\".jpeg\", 24, transform=preprocess)\n",
    "    \n",
    "for img in healthy:\n",
    "    draw_CAM(CNN_Clean, \"./test/NORMAL/\"+img, \"./heatmaps/NORMAL_\"+str(healthy.index(img))+\".jpeg\", 24, transform=preprocess)"
   ]
  },
  {
   "cell_type": "code",
   "execution_count": 58,
   "metadata": {},
   "outputs": [],
   "source": [
    "sick = [\"person60_virus_117.jpeg\", \"person78_bacteria_381.jpeg\", \"person81_bacteria_395.jpeg\", \"person83_bacteria_412.jpeg\", \"person90_bacteria_443.jpeg\"]\n",
    "healthy = [\"IM-0016-0001.jpeg\", \"IM-0033-0001-0001.jpeg\", \"IM-0063-0001.jpeg\", \"IM-0086-0001.jpeg\", \"IM-0103-0001.jpeg\"]\n",
    "\n",
    "for img in sick:\n",
    "    draw_CAM(Normal_CNN_94, \"./test/PNEUMONIA/\"+img, \"./heatmaps/PNEUMONIA_\"+str(sick.index(img))+\".jpeg\", 24, transform=preprocess)\n",
    "    \n",
    "for img in healthy:\n",
    "    draw_CAM(Normal_CNN_94, \"./test/NORMAL/\"+img, \"./heatmaps/NORMAL_\"+str(healthy.index(img))+\".jpeg\", 24, transform=preprocess)"
   ]
  },
  {
   "cell_type": "markdown",
   "metadata": {},
   "source": [
    "## PCA and t-SNE on the model"
   ]
  },
  {
   "cell_type": "code",
   "execution_count": 67,
   "metadata": {},
   "outputs": [
    {
     "name": "stdout",
     "output_type": "stream",
     "text": [
      "[t-SNE] Computing 49 nearest neighbors...\n",
      "[t-SNE] Indexed 50 samples in 0.001s...\n",
      "[t-SNE] Computed neighbors for 50 samples in 0.010s...\n",
      "[t-SNE] Computed conditional probabilities for sample 50 / 50\n",
      "[t-SNE] Mean sigma: 6.748592\n",
      "[t-SNE] KL divergence after 250 iterations with early exaggeration: 45.199200\n",
      "[t-SNE] KL divergence after 300 iterations: 0.713133\n"
     ]
    }
   ],
   "source": [
    "X = []\n",
    "Y = []\n",
    "with torch.no_grad():\n",
    "    for i, data in enumerate(train_loader, 0):\n",
    "        image, label = data\n",
    "        cnn_x = Normal_CNN50.conv(image)\n",
    "        X = cnn_x.view(cnn_x.size(0),-1)# this flattens X before linear layer\n",
    "        Y = label\n",
    "        break\n",
    "     \n",
    "tsne = TSNE(n_components=2, verbose=1, perplexity=40, n_iter=300)\n",
    "X_2d = tsne.fit_transform(X)"
   ]
  },
  {
   "cell_type": "code",
   "execution_count": 68,
   "metadata": {},
   "outputs": [],
   "source": [
    "copy_untrained_data = X\n",
    "pca = PCA(n_components=2, svd_solver='full')\n",
    "pca.fit(copy_untrained_data)\n",
    "X_untrained_PCA = pca.transform(copy_untrained_data)"
   ]
  },
  {
   "cell_type": "code",
   "execution_count": 69,
   "metadata": {},
   "outputs": [
    {
     "data": {
      "image/png": "[encoded data removed]",
      "text/plain": [
       "<Figure size 432x360 with 1 Axes>"
      ]
     },
     "metadata": {
      "needs_background": "light"
     },
     "output_type": "display_data"
    },
    {
     "data": {
      "image/png": "[encoded data removed]",
      "text/plain": [
       "<Figure size 432x360 with 1 Axes>"
      ]
     },
     "metadata": {
      "needs_background": "light"
     },
     "output_type": "display_data"
    }
   ],
   "source": [
    "numbers=[\"normal\",\"sick\"]\n",
    "\n",
    "\n",
    "plt.figure(figsize=(6, 5))\n",
    "colors = 'r', 'g'\n",
    "for i, c, label in zip(range(0,2), colors, numbers):\n",
    "    plt.scatter(X_2d[Y == i, 0], X_2d[Y == i, 1], c=c, label=label)\n",
    "plt.legend()\n",
    "plt.show()\n",
    "\n",
    "plt.figure(figsize=(6, 5))\n",
    "for i, c, label in zip(range(0,2), colors, numbers):\n",
    "    plt.scatter(X_untrained_PCA[Y == i, 0], X_untrained_PCA[Y == i, 1], c=c, label=label)\n",
    "plt.legend()\n",
    "plt.show()\n"
   ]
  },
  {
   "cell_type": "markdown",
   "metadata": {},
   "source": [
    "## PCA and t-SNE on plain dataset"
   ]
  },
  {
   "cell_type": "code",
   "execution_count": 87,
   "metadata": {},
   "outputs": [
    {
     "name": "stdout",
     "output_type": "stream",
     "text": [
      "torch.Size([50, 10000])\n",
      "torch.Size([50])\n",
      "[t-SNE] Computing 49 nearest neighbors...\n",
      "[t-SNE] Indexed 50 samples in 0.000s...\n",
      "[t-SNE] Computed neighbors for 50 samples in 0.007s...\n",
      "[t-SNE] Computed conditional probabilities for sample 50 / 50\n",
      "[t-SNE] Mean sigma: 86.276929\n",
      "[t-SNE] KL divergence after 250 iterations with early exaggeration: 45.920364\n",
      "[t-SNE] KL divergence after 300 iterations: 0.935333\n"
     ]
    }
   ],
   "source": [
    "X = []\n",
    "Y = []\n",
    "\n",
    "for i, data in enumerate(train_loader, 0):\n",
    "    image, label = data    \n",
    "    X=image\n",
    "    Y=label\n",
    "    if i==20:\n",
    "        break\n",
    "\n",
    "    \n",
    "X=X.view(-1, 10000)\n",
    "print(X.shape)\n",
    "print(Y.shape)\n",
    "tsne = TSNE(n_components=2, verbose=1, perplexity=40, n_iter=300)\n",
    "X_2d = tsne.fit_transform(X)\n"
   ]
  },
  {
   "cell_type": "code",
   "execution_count": 88,
   "metadata": {},
   "outputs": [],
   "source": [
    "copy_untrained_data = X\n",
    "pca = PCA(n_components=2, svd_solver='full')\n",
    "pca.fit(copy_untrained_data)\n",
    "X_untrained_PCA = pca.transform(copy_untrained_data)\n"
   ]
  },
  {
   "cell_type": "code",
   "execution_count": 89,
   "metadata": {},
   "outputs": [
    {
     "data": {
      "image/png": "[encoded data removed]",
      "text/plain": [
       "<Figure size 432x360 with 1 Axes>"
      ]
     },
     "metadata": {
      "needs_background": "light"
     },
     "output_type": "display_data"
    },
    {
     "data": {
      "image/png": "[encoded data removed]",
      "text/plain": [
       "<Figure size 432x360 with 1 Axes>"
      ]
     },
     "metadata": {
      "needs_background": "light"
     },
     "output_type": "display_data"
    }
   ],
   "source": [
    "numbers=[\"normal\",\"sick\"]\n",
    "\n",
    "\n",
    "plt.figure(figsize=(6, 5))\n",
    "colors = 'r', 'g'\n",
    "for i, c, label in zip(range(0,2), colors, numbers):\n",
    "    plt.scatter(X_2d[Y == i, 0], X_2d[Y == i, 1], c=c, label=label)\n",
    "plt.legend()\n",
    "plt.show()\n",
    "\n",
    "plt.figure(figsize=(6, 5))\n",
    "for i, c, label in zip(range(0,2), colors, numbers):\n",
    "    plt.scatter(X_untrained_PCA[Y == i, 0], X_untrained_PCA[Y == i, 1], c=c, label=label)\n",
    "plt.legend()\n",
    "plt.show()\n"
   ]
  },
  {
   "cell_type": "markdown",
   "metadata": {},
   "source": [
    "# EfficientNet <a class=\"anchor\" id=\"part4\"></a>\n",
    "[Goto top](#top)"
   ]
  },
  {
   "cell_type": "code",
   "execution_count": 1,
   "metadata": {
    "collapsed": true
   },
   "outputs": [
    {
     "name": "stdout",
     "output_type": "stream",
     "text": [
      "Collecting efficientnet_pytorch\n",
      "  Downloading efficientnet_pytorch-0.7.1.tar.gz (21 kB)\n",
      "Requirement already satisfied: torch in c:\\users\\alexc\\anaconda3\\lib\\site-packages (from efficientnet_pytorch) (1.8.1)\n",
      "Requirement already satisfied: typing_extensions in c:\\users\\alexc\\anaconda3\\lib\\site-packages (from torch->efficientnet_pytorch) (3.7.4.3)\n",
      "Requirement already satisfied: numpy in c:\\users\\alexc\\anaconda3\\lib\\site-packages (from torch->efficientnet_pytorch) (1.19.3)\n",
      "Building wheels for collected packages: efficientnet-pytorch\n",
      "  Building wheel for efficientnet-pytorch (setup.py): started\n",
      "  Building wheel for efficientnet-pytorch (setup.py): finished with status 'done'\n",
      "  Created wheel for efficientnet-pytorch: filename=efficientnet_pytorch-0.7.1-py3-none-any.whl size=16447 sha256=8ed31a7a9dd7ce772aa7141fdbd88c0e13e6ada49c6a7162289f56f97e268345\n",
      "  Stored in directory: c:\\users\\alexc\\appdata\\local\\pip\\cache\\wheels\\84\\b9\\90\\25a0195cf95fb5533db96f1c77ea3f296b7cc86ae8ae48e3dc\n",
      "Successfully built efficientnet-pytorch\n",
      "Installing collected packages: efficientnet-pytorch\n",
      "Successfully installed efficientnet-pytorch-0.7.1\n"
     ]
    }
   ],
   "source": [
    "!pip install efficientnet_pytorch"
   ]
  },
  {
   "cell_type": "code",
   "execution_count": 10,
   "metadata": {},
   "outputs": [],
   "source": [
    "from efficientnet_pytorch import EfficientNet\n",
    "effinet = EfficientNet.from_name('efficientnet-b0')"
   ]
  },
  {
   "cell_type": "code",
   "execution_count": 32,
   "metadata": {},
   "outputs": [],
   "source": [
    "for param in effinet.parameters():\n",
    "    param.requires_grad = False\n",
    "    \n",
    "effinet._fc = nn.Sequential(\n",
    "            nn.Linear(1280, 500),\n",
    "            nn.LeakyReLU(),\n",
    "            nn.Dropout(0.3),\n",
    "            nn.Linear(500, 100),\n",
    "            nn.LeakyReLU(),\n",
    "            nn.Dropout(0.3),\n",
    "            nn.Linear(100, 2),\n",
    "            nn.Softmax(dim=1)\n",
    "        )\n",
    "\n",
    "effinet._conv_stem = nn.Conv2d(\n",
    "    1, 32, kernel_size=(3, 3), stride=(2, 2), bias=False\n",
    "  )"
   ]
  },
  {
   "cell_type": "code",
   "execution_count": 12,
   "metadata": {
    "scrolled": true
   },
   "outputs": [
    {
     "name": "stderr",
     "output_type": "stream",
     "text": [
      "100%|████████████████████████████████████████████████████████████████████████████████| 105/105 [04:09<00:00,  2.38s/it]\n",
      "  0%|                                                                                          | 0/105 [00:00<?, ?it/s]"
     ]
    },
    {
     "name": "stdout",
     "output_type": "stream",
     "text": [
      "[Epoch 1] Train loss: 0.5774 Val loss: 0.6522\n"
     ]
    },
    {
     "name": "stderr",
     "output_type": "stream",
     "text": [
      "100%|████████████████████████████████████████████████████████████████████████████████| 105/105 [04:29<00:00,  2.57s/it]\n",
      "  0%|                                                                                          | 0/105 [00:00<?, ?it/s]"
     ]
    },
    {
     "name": "stdout",
     "output_type": "stream",
     "text": [
      "[Epoch 2] Train loss: 0.5247 Val loss: 0.6666\n"
     ]
    },
    {
     "name": "stderr",
     "output_type": "stream",
     "text": [
      "100%|████████████████████████████████████████████████████████████████████████████████| 105/105 [04:33<00:00,  2.61s/it]\n",
      "  0%|                                                                                          | 0/105 [00:00<?, ?it/s]"
     ]
    },
    {
     "name": "stdout",
     "output_type": "stream",
     "text": [
      "[Epoch 3] Train loss: 0.5169 Val loss: 0.6496\n"
     ]
    },
    {
     "name": "stderr",
     "output_type": "stream",
     "text": [
      "100%|████████████████████████████████████████████████████████████████████████████████| 105/105 [04:24<00:00,  2.52s/it]\n",
      "  0%|                                                                                          | 0/105 [00:00<?, ?it/s]"
     ]
    },
    {
     "name": "stdout",
     "output_type": "stream",
     "text": [
      "[Epoch 4] Train loss: 0.5140 Val loss: 0.6117\n"
     ]
    },
    {
     "name": "stderr",
     "output_type": "stream",
     "text": [
      "100%|████████████████████████████████████████████████████████████████████████████████| 105/105 [04:22<00:00,  2.50s/it]\n",
      "  0%|                                                                                          | 0/105 [00:00<?, ?it/s]"
     ]
    },
    {
     "name": "stdout",
     "output_type": "stream",
     "text": [
      "[Epoch 5] Train loss: 0.5118 Val loss: 0.6710\n"
     ]
    },
    {
     "name": "stderr",
     "output_type": "stream",
     "text": [
      "100%|████████████████████████████████████████████████████████████████████████████████| 105/105 [04:17<00:00,  2.45s/it]\n",
      "  0%|                                                                                          | 0/105 [00:00<?, ?it/s]"
     ]
    },
    {
     "name": "stdout",
     "output_type": "stream",
     "text": [
      "[Epoch 6] Train loss: 0.5096 Val loss: 0.6721\n"
     ]
    },
    {
     "name": "stderr",
     "output_type": "stream",
     "text": [
      "100%|████████████████████████████████████████████████████████████████████████████████| 105/105 [04:35<00:00,  2.62s/it]\n",
      "  0%|                                                                                          | 0/105 [00:00<?, ?it/s]"
     ]
    },
    {
     "name": "stdout",
     "output_type": "stream",
     "text": [
      "[Epoch 7] Train loss: 0.5130 Val loss: 0.6056\n"
     ]
    },
    {
     "name": "stderr",
     "output_type": "stream",
     "text": [
      "100%|████████████████████████████████████████████████████████████████████████████████| 105/105 [04:27<00:00,  2.54s/it]\n",
      "  0%|                                                                                          | 0/105 [00:00<?, ?it/s]"
     ]
    },
    {
     "name": "stdout",
     "output_type": "stream",
     "text": [
      "[Epoch 8] Train loss: 0.5112 Val loss: 0.5408\n"
     ]
    },
    {
     "name": "stderr",
     "output_type": "stream",
     "text": [
      "100%|████████████████████████████████████████████████████████████████████████████████| 105/105 [04:30<00:00,  2.58s/it]\n",
      "  0%|                                                                                          | 0/105 [00:00<?, ?it/s]"
     ]
    },
    {
     "name": "stdout",
     "output_type": "stream",
     "text": [
      "[Epoch 9] Train loss: 0.5106 Val loss: 0.5970\n"
     ]
    },
    {
     "name": "stderr",
     "output_type": "stream",
     "text": [
      "100%|████████████████████████████████████████████████████████████████████████████████| 105/105 [04:32<00:00,  2.59s/it]\n",
      "  0%|                                                                                          | 0/105 [00:00<?, ?it/s]"
     ]
    },
    {
     "name": "stdout",
     "output_type": "stream",
     "text": [
      "[Epoch 10] Train loss: 0.5087 Val loss: 0.5030\n"
     ]
    },
    {
     "name": "stderr",
     "output_type": "stream",
     "text": [
      "100%|████████████████████████████████████████████████████████████████████████████████| 105/105 [04:27<00:00,  2.55s/it]\n",
      "  0%|                                                                                          | 0/105 [00:00<?, ?it/s]"
     ]
    },
    {
     "name": "stdout",
     "output_type": "stream",
     "text": [
      "[Epoch 11] Train loss: 0.5049 Val loss: 0.6519\n"
     ]
    },
    {
     "name": "stderr",
     "output_type": "stream",
     "text": [
      "100%|████████████████████████████████████████████████████████████████████████████████| 105/105 [04:33<00:00,  2.61s/it]\n",
      "  0%|                                                                                          | 0/105 [00:00<?, ?it/s]"
     ]
    },
    {
     "name": "stdout",
     "output_type": "stream",
     "text": [
      "[Epoch 12] Train loss: 0.5057 Val loss: 0.6098\n"
     ]
    },
    {
     "name": "stderr",
     "output_type": "stream",
     "text": [
      "100%|████████████████████████████████████████████████████████████████████████████████| 105/105 [04:32<00:00,  2.60s/it]\n",
      "  0%|                                                                                          | 0/105 [00:00<?, ?it/s]"
     ]
    },
    {
     "name": "stdout",
     "output_type": "stream",
     "text": [
      "[Epoch 13] Train loss: 0.5090 Val loss: 0.6066\n"
     ]
    },
    {
     "name": "stderr",
     "output_type": "stream",
     "text": [
      "100%|████████████████████████████████████████████████████████████████████████████████| 105/105 [04:48<00:00,  2.75s/it]\n",
      "  0%|                                                                                          | 0/105 [00:00<?, ?it/s]"
     ]
    },
    {
     "name": "stdout",
     "output_type": "stream",
     "text": [
      "[Epoch 14] Train loss: 0.5019 Val loss: 0.6437\n"
     ]
    },
    {
     "name": "stderr",
     "output_type": "stream",
     "text": [
      "100%|████████████████████████████████████████████████████████████████████████████████| 105/105 [04:37<00:00,  2.65s/it]\n",
      "  0%|                                                                                          | 0/105 [00:00<?, ?it/s]"
     ]
    },
    {
     "name": "stdout",
     "output_type": "stream",
     "text": [
      "[Epoch 15] Train loss: 0.5096 Val loss: 0.6981\n"
     ]
    },
    {
     "name": "stderr",
     "output_type": "stream",
     "text": [
      "100%|████████████████████████████████████████████████████████████████████████████████| 105/105 [04:35<00:00,  2.63s/it]\n",
      "  0%|                                                                                          | 0/105 [00:00<?, ?it/s]"
     ]
    },
    {
     "name": "stdout",
     "output_type": "stream",
     "text": [
      "[Epoch 16] Train loss: 0.5019 Val loss: 0.5801\n"
     ]
    },
    {
     "name": "stderr",
     "output_type": "stream",
     "text": [
      "100%|████████████████████████████████████████████████████████████████████████████████| 105/105 [04:24<00:00,  2.52s/it]\n",
      "  0%|                                                                                          | 0/105 [00:00<?, ?it/s]"
     ]
    },
    {
     "name": "stdout",
     "output_type": "stream",
     "text": [
      "[Epoch 17] Train loss: 0.5051 Val loss: 0.6078\n"
     ]
    },
    {
     "name": "stderr",
     "output_type": "stream",
     "text": [
      "100%|████████████████████████████████████████████████████████████████████████████████| 105/105 [04:10<00:00,  2.39s/it]\n",
      "  0%|                                                                                          | 0/105 [00:00<?, ?it/s]"
     ]
    },
    {
     "name": "stdout",
     "output_type": "stream",
     "text": [
      "[Epoch 18] Train loss: 0.5019 Val loss: 0.5404\n"
     ]
    },
    {
     "name": "stderr",
     "output_type": "stream",
     "text": [
      "100%|████████████████████████████████████████████████████████████████████████████████| 105/105 [05:04<00:00,  2.90s/it]\n",
      "  0%|                                                                                          | 0/105 [00:00<?, ?it/s]"
     ]
    },
    {
     "name": "stdout",
     "output_type": "stream",
     "text": [
      "[Epoch 19] Train loss: 0.5006 Val loss: 0.5938\n"
     ]
    },
    {
     "name": "stderr",
     "output_type": "stream",
     "text": [
      "100%|████████████████████████████████████████████████████████████████████████████████| 105/105 [04:53<00:00,  2.80s/it]\n",
      "  0%|                                                                                          | 0/105 [00:00<?, ?it/s]"
     ]
    },
    {
     "name": "stdout",
     "output_type": "stream",
     "text": [
      "[Epoch 20] Train loss: 0.5022 Val loss: 0.6204\n"
     ]
    },
    {
     "name": "stderr",
     "output_type": "stream",
     "text": [
      "100%|████████████████████████████████████████████████████████████████████████████████| 105/105 [04:51<00:00,  2.77s/it]\n",
      "  0%|                                                                                          | 0/105 [00:00<?, ?it/s]"
     ]
    },
    {
     "name": "stdout",
     "output_type": "stream",
     "text": [
      "[Epoch 21] Train loss: 0.4958 Val loss: 0.5607\n"
     ]
    },
    {
     "name": "stderr",
     "output_type": "stream",
     "text": [
      "100%|████████████████████████████████████████████████████████████████████████████████| 105/105 [04:28<00:00,  2.56s/it]\n",
      "  0%|                                                                                          | 0/105 [00:00<?, ?it/s]"
     ]
    },
    {
     "name": "stdout",
     "output_type": "stream",
     "text": [
      "[Epoch 22] Train loss: 0.5002 Val loss: 0.6258\n"
     ]
    },
    {
     "name": "stderr",
     "output_type": "stream",
     "text": [
      "100%|████████████████████████████████████████████████████████████████████████████████| 105/105 [04:23<00:00,  2.51s/it]\n",
      "  0%|                                                                                          | 0/105 [00:00<?, ?it/s]"
     ]
    },
    {
     "name": "stdout",
     "output_type": "stream",
     "text": [
      "[Epoch 23] Train loss: 0.4989 Val loss: 0.6121\n"
     ]
    },
    {
     "name": "stderr",
     "output_type": "stream",
     "text": [
      "100%|████████████████████████████████████████████████████████████████████████████████| 105/105 [03:58<00:00,  2.27s/it]\n",
      "  0%|                                                                                          | 0/105 [00:00<?, ?it/s]"
     ]
    },
    {
     "name": "stdout",
     "output_type": "stream",
     "text": [
      "[Epoch 24] Train loss: 0.4969 Val loss: 0.7143\n"
     ]
    },
    {
     "name": "stderr",
     "output_type": "stream",
     "text": [
      "100%|████████████████████████████████████████████████████████████████████████████████| 105/105 [03:47<00:00,  2.17s/it]\n",
      "  0%|                                                                                          | 0/105 [00:00<?, ?it/s]"
     ]
    },
    {
     "name": "stdout",
     "output_type": "stream",
     "text": [
      "[Epoch 25] Train loss: 0.4990 Val loss: 0.6189\n"
     ]
    },
    {
     "name": "stderr",
     "output_type": "stream",
     "text": [
      "100%|████████████████████████████████████████████████████████████████████████████████| 105/105 [03:44<00:00,  2.14s/it]\n",
      "  0%|                                                                                          | 0/105 [00:00<?, ?it/s]"
     ]
    },
    {
     "name": "stdout",
     "output_type": "stream",
     "text": [
      "[Epoch 26] Train loss: 0.5006 Val loss: 0.6476\n"
     ]
    },
    {
     "name": "stderr",
     "output_type": "stream",
     "text": [
      "100%|████████████████████████████████████████████████████████████████████████████████| 105/105 [03:45<00:00,  2.14s/it]\n",
      "  0%|                                                                                          | 0/105 [00:00<?, ?it/s]"
     ]
    },
    {
     "name": "stdout",
     "output_type": "stream",
     "text": [
      "[Epoch 27] Train loss: 0.5005 Val loss: 0.6760\n"
     ]
    },
    {
     "name": "stderr",
     "output_type": "stream",
     "text": [
      "100%|████████████████████████████████████████████████████████████████████████████████| 105/105 [03:45<00:00,  2.15s/it]\n",
      "  0%|                                                                                          | 0/105 [00:00<?, ?it/s]"
     ]
    },
    {
     "name": "stdout",
     "output_type": "stream",
     "text": [
      "[Epoch 28] Train loss: 0.5011 Val loss: 0.6525\n"
     ]
    },
    {
     "name": "stderr",
     "output_type": "stream",
     "text": [
      "100%|████████████████████████████████████████████████████████████████████████████████| 105/105 [03:44<00:00,  2.14s/it]\n",
      "  0%|                                                                                          | 0/105 [00:00<?, ?it/s]"
     ]
    },
    {
     "name": "stdout",
     "output_type": "stream",
     "text": [
      "[Epoch 29] Train loss: 0.4991 Val loss: 0.7227\n"
     ]
    },
    {
     "name": "stderr",
     "output_type": "stream",
     "text": [
      "100%|████████████████████████████████████████████████████████████████████████████████| 105/105 [03:45<00:00,  2.15s/it]\n"
     ]
    },
    {
     "name": "stdout",
     "output_type": "stream",
     "text": [
      "[Epoch 30] Train loss: 0.4996 Val loss: 0.6882\n"
     ]
    }
   ],
   "source": [
    "loss_function = nn.CrossEntropyLoss()\n",
    "optimizer = optim.Adam(effinet.parameters(), lr=0.0001)\n",
    "\n",
    "decayRate = 0.96\n",
    "scheduler = torch.optim.lr_scheduler.ExponentialLR(optimizer=optimizer, gamma=decayRate)\n",
    "\n",
    "train_model(effinet, loss_function, optimizer, train_loader, val_loader, 30, \"EfficientNet\", scheduler)"
   ]
  },
  {
   "cell_type": "code",
   "execution_count": 54,
   "metadata": {},
   "outputs": [
    {
     "name": "stderr",
     "output_type": "stream",
     "text": [
      "100%|██████████████████████████████████████████████████████████████████████████████████| 13/13 [00:23<00:00,  1.79s/it]\n",
      "  0%|                                                                                           | 0/13 [00:00<?, ?it/s]"
     ]
    },
    {
     "name": "stdout",
     "output_type": "stream",
     "text": [
      "F1-score:  0.6462264150943396\n",
      "The models accuracy is  51.92307692307693 % of total  624\n"
     ]
    },
    {
     "name": "stderr",
     "output_type": "stream",
     "text": [
      "100%|██████████████████████████████████████████████████████████████████████████████████| 13/13 [00:16<00:00,  1.25s/it]"
     ]
    },
    {
     "name": "stdout",
     "output_type": "stream",
     "text": [
      "F1-score:  0.8474576271186441\n",
      "The models accuracy is  82.6923076923077 % of total  624\n"
     ]
    },
    {
     "name": "stderr",
     "output_type": "stream",
     "text": [
      "\n"
     ]
    }
   ],
   "source": [
    "test(effinet, test_loader)\n",
    "test(Normal_CNN_V2, test_loader)"
   ]
  },
  {
   "cell_type": "code",
   "execution_count": 14,
   "metadata": {},
   "outputs": [],
   "source": [
    "torch.save(effinet.state_dict(), \"./models/EffiNet30_NoNorm\")"
   ]
  }
 ],
 "metadata": {
  "kernelspec": {
   "display_name": "Python 3",
   "language": "python",
   "name": "python3"
  },
  "language_info": {
   "codemirror_mode": {
    "name": "ipython",
    "version": 3
   },
   "file_extension": ".py",
   "mimetype": "text/x-python",
   "name": "python",
   "nbconvert_exporter": "python",
   "pygments_lexer": "ipython3",
   "version": "3.6.12"
  }
 },
 "nbformat": 4,
 "nbformat_minor": 4
}
