{
 "cells": [
  {
   "cell_type": "code",
   "execution_count": 1,
   "metadata": {},
   "outputs": [],
   "source": [
    "import torch\n",
    "import torch.nn as nn\n",
    "import torchvision.transforms as transforms\n",
    "import torchvision\n",
    "import numpy as np\n",
    "from sklearn.model_selection import train_test_split\n",
    "import torch.nn.functional as F\n",
    "import os\n",
    "import random \n",
    "import cv2\n",
    "from sklearn.manifold import TSNE\n",
    "from sklearn.decomposition import PCA\n",
    "from matplotlib import pyplot as plt\n",
    "import torch.utils.data\n"
   ]
  },
  {
   "cell_type": "code",
   "execution_count": 2,
   "metadata": {},
   "outputs": [],
   "source": [
    "transform = transforms.Compose(\n",
    "    [\n",
    "    transforms.ToTensor(),\n",
    "    transforms.Normalize(mean=[0.485], std=[0.229])\n",
    "    ])"
   ]
  },
  {
   "cell_type": "code",
   "execution_count": 3,
   "metadata": {},
   "outputs": [
    {
     "name": "stdout",
     "output_type": "stream",
     "text": [
      "normal: 234\n",
      "sick:  390\n",
      "624\n"
     ]
    }
   ],
   "source": [
    "normal= \"./test/NORMAL\"\n",
    "sick = \"./test/PNEUMONIA\"\n",
    "LABELS = {normal: 0, sick: 1}\n",
    "label_text=[]\n",
    "training_data = []\n",
    "training_labels=[]\n",
    "img_size = 300\n",
    "normal_nr = 0\n",
    "sick_nr = 0\n",
    "\n",
    "\n",
    "for label in LABELS:\n",
    "    val_count=0\n",
    "    for f in os.listdir(label):\n",
    "        if \"jpeg\" in f:\n",
    "            path = os.path.join(label, f)\n",
    "            img = cv2.imread(path, cv2.IMREAD_GRAYSCALE)\n",
    "            img = cv2.resize(img, (img_size, img_size))\n",
    "            img=img/255 #pixel value 0-1\n",
    "            img=img.astype('float32')\n",
    "            training_data.append([transform(np.array(img))])\n",
    "            label_text.append(LABELS[label])\n",
    "            training_labels.append(np.eye(2)[LABELS[label]])\n",
    "                #print(\"there\")\n",
    "\n",
    "\n",
    "            if label == normal:\n",
    "                normal_nr += 1\n",
    "            elif label == sick:\n",
    "                sick_nr += 1\n",
    "temp2 = list(zip(training_data, label_text))\n",
    "temp = list(zip(training_data, training_labels)) #shuffles labels and img the same way(keep corresponding label)\n",
    "random.shuffle(temp) \n",
    "random.shuffle(temp2) \n",
    "training_data, training_label = zip(*temp)\n",
    "training_data2, label_text = zip(*temp2)\n",
    "print('normal:', normal_nr)\n",
    "print('sick: ', sick_nr)\n",
    "print(len(training_data))"
   ]
  },
  {
   "cell_type": "code",
   "execution_count": 6,
   "metadata": {},
   "outputs": [],
   "source": [
    "# import matplotlib.pyplot as plt\n",
    "# x_data = torch.tensor(training_data2)\n",
    "# x_labels = torch.tensor(training_labels)\n",
    "\n",
    "#trainLoader = torch.utils.data.DataLoader(temp2, batch_size=100,\n",
    "                                    #shuffle=True, num_workers=2)\n",
    "\n",
    "\n",
    "traindir = \"./train\"\n",
    "valdir = \"./val\"\n",
    "testdir = \"./test\"\n",
    "\n",
    "\n",
    "\n",
    "normalize = transforms.Normalize(mean=[0.485], std=[0.229])\n",
    "\n",
    "traindata = torchvision.datasets.ImageFolder(traindir,transforms.Compose([\n",
    "        transforms.Grayscale(),\n",
    "        transforms.Resize((50,50)),\n",
    "        #transforms.CenterCrop(224),\n",
    "        transforms.RandomHorizontalFlip(),#augmenting data?\n",
    "        transforms.ToTensor(),\n",
    "        transforms.Normalize(mean=[0.485], std=[0.229]),\n",
    "       ]))\n",
    "valdata = torchvision.datasets.ImageFolder(valdir,transforms.Compose([\n",
    "        transforms.Grayscale(),\n",
    "        transforms.Resize((50,50)),\n",
    "        #transforms.CenterCrop(224),\n",
    "        transforms.RandomHorizontalFlip(),#augmenting data?\n",
    "        transforms.ToTensor(),\n",
    "        transforms.Normalize(mean=[0.485], std=[0.229]),\n",
    "       ]))\n",
    "testdata = torchvision.datasets.ImageFolder(testdir,transforms.Compose([\n",
    "        transforms.Grayscale(),\n",
    "        transforms.Resize((50,50)),\n",
    "        #transforms.CenterCrop(224),\n",
    "        transforms.RandomHorizontalFlip(),#augmenting data?\n",
    "        transforms.ToTensor(),\n",
    "        transforms.Normalize(mean=[0.485], std=[0.229]),\n",
    "       ]))\n",
    "\n",
    "test_loader = torch.utils.data.DataLoader(testdata,batch_size=50, \n",
    "                                          shuffle=True)\n",
    "train_loader = torch.utils.data.DataLoader(traindata,batch_size=50,\n",
    "                                           shuffle=True)\n",
    "val_loader = torch.utils.data.DataLoader(valdata,batch_size=50,\n",
    "                                         shuffle=True)\n"
   ]
  },
  {
   "cell_type": "code",
   "execution_count": 7,
   "metadata": {},
   "outputs": [
    {
     "name": "stdout",
     "output_type": "stream",
     "text": [
      "torch.Size([50, 1, 50, 50])\n",
      "tensor([1, 1, 1, 1, 0, 1, 1, 0, 1, 1, 1, 0, 0, 1, 0, 1, 1, 1, 1, 0, 0, 1, 1, 1,\n",
      "        0, 1, 1, 1, 1, 1, 1, 0, 1, 1, 0, 1, 0, 1, 0, 1, 1, 0, 0, 0, 1, 1, 0, 1,\n",
      "        1, 1])\n"
     ]
    }
   ],
   "source": [
    "for i, data in enumerate(train_loader, 0):\n",
    "    image, label = data    \n",
    "    X=image[0]\n",
    "    \n",
    "    print(image.shape)\n",
    "    Y=label\n",
    "    print(Y)\n",
    "    break"
   ]
  },
  {
   "cell_type": "code",
   "execution_count": 12,
   "metadata": {},
   "outputs": [],
   "source": [
    "class CNN(nn.Module):\n",
    "    def __init__(self,activation_function):\n",
    "        super().__init__()\n",
    "        self.conv = nn.Sequential(\n",
    "            nn.Conv2d(1, 6, 3),#900x900 -> 898x898 (no pad)\n",
    "            activation_function(),\n",
    "            nn.MaxPool2d(2, stride = 2), #2x2 maxpool (devide hight and with by 2 -> 15x15)\n",
    "            nn.Conv2d(6, 10, 3),#(no padding -> 13x13)\n",
    "            activation_function()\n",
    "            #nn.MaxPool2d(2, stride = 2)\n",
    "        )\n",
    "        self.linear_lay = nn.Sequential(\n",
    "            nn.Linear(4840, 1000),# (13X13X10 (outchanels))\n",
    "            activation_function(),\n",
    "            nn.Linear(1000, 100),\n",
    "            activation_function(),\n",
    "            nn.Linear(100, 10),\n",
    "            activation_function(),\n",
    "            nn.Linear(10,2)\n",
    "        )\n",
    "        \n",
    "    def forward(self, x):\n",
    "        x = self.conv(x)\n",
    "        x = x.view(x.size(0),-1)# this flattens X before linear layer\n",
    "        x = self.linear_lay(x) # bc this is our output layer. No activation here.\n",
    "        \n",
    "        return F.softmax(x, dim=1)\n",
    "            \n",
    "        "
   ]
  },
  {
   "cell_type": "code",
   "execution_count": 13,
   "metadata": {},
   "outputs": [],
   "source": [
    "def test(model, loader):\n",
    "    true_labels=[]\n",
    "    pred_labels=[]\n",
    "    correct = 0\n",
    "    total = 0\n",
    "    losses = []\n",
    "    with torch.no_grad():\n",
    "        for i, data in enumerate(loader, 0):\n",
    "            image, label = data\n",
    "            pred = model(image)\n",
    "            for i in range(len(data)):\n",
    "                if torch.argmax(pred[i]) == label[i]:\n",
    "                    correct += 1\n",
    "                total += 1\n",
    "    print(\" predicted = \", correct/total*100, \"% of total \",total)"
   ]
  },
  {
   "cell_type": "code",
   "execution_count": 24,
   "metadata": {},
   "outputs": [],
   "source": [
    "def validate(model, modelVal, validationLoader):\n",
    "    correct = 0\n",
    "    total = 0\n",
    "    finalLoss = 0\n",
    "    criterion = nn.CrossEntropyLoss()\n",
    "    with torch.no_grad():\n",
    "        for i, data in enumerate(validationLoader, 0):\n",
    "            image, label = data\n",
    "            pred = model(image)\n",
    "            outputs = model(image)\n",
    "            loss = criterion(outputs, label)\n",
    "            finalLoss += loss\n",
    "    return finalLoss"
   ]
  },
  {
   "cell_type": "code",
   "execution_count": 15,
   "metadata": {},
   "outputs": [
    {
     "name": "stdout",
     "output_type": "stream",
     "text": [
      "[1,   105] loss: 0.096 inf validation loss --> learning rate 0.001000000\n",
      "[2,   105] loss: 0.096 inf validation loss --> learning rate 0.000960000\n",
      "[3,   105] loss: 0.096 inf validation loss --> learning rate 0.000921600\n",
      "[4,   105] loss: 0.096 inf validation loss --> learning rate 0.000884736\n",
      "[5,   105] loss: 0.096 inf validation loss --> learning rate 0.000849347\n",
      "Finished Training\n"
     ]
    }
   ],
   "source": [
    "import torch.optim as optim\n",
    "model = CNN(nn.LeakyReLU)\n",
    "criterion = nn.CrossEntropyLoss()\n",
    "optimizer = optim.Adam(model.parameters(), lr=0.001)\n",
    "\n",
    "decayRate = 0.96\n",
    "scheduler = torch.optim.lr_scheduler.ExponentialLR(optimizer=optimizer, gamma=decayRate)\n",
    "\n",
    "for epoch in range(5):  # loop over the dataset multiple times\n",
    "    running_loss = 0.0\n",
    "    for i, data in enumerate(train_loader, 0):\n",
    "        # get the inputs; data is a list of [inputs, labels]\n",
    "        inputs, labels = data\n",
    "\n",
    "        # zero the parameter gradients\n",
    "        optimizer.zero_grad()\n",
    "\n",
    "        #64, 3, 11, 11\n",
    "        # forward + backward + optimize\n",
    "        outputs = model(inputs)\n",
    "        loss = criterion(outputs, labels)\n",
    "        loss.backward()\n",
    "        optimizer.step()\n",
    "\n",
    "        # print statistics\n",
    "        running_loss += loss.item()\n",
    "    #writer.add_scalar('CIFAR10 Loss/train', running_loss / 625, epoch) \n",
    "\n",
    "    val_loss = validate(model, 1, val_loader)\n",
    "\n",
    "    print('[%d, %5d] loss: %.3f %.3f validation loss --> learning rate %.9f' %\n",
    "          (epoch + 1, i + 1, running_loss / i, val_loss, optimizer.param_groups[0]['lr']))\n",
    "\n",
    "   # writer.add_scalar('CIFAR10 Validation Loss/train', val_loss, epoch) \n",
    "    running_loss = 0.0\n",
    "    scheduler.step()\n",
    "\n",
    "print('Finished Training')"
   ]
  },
  {
   "cell_type": "code",
   "execution_count": 28,
   "metadata": {},
   "outputs": [
    {
     "name": "stdout",
     "output_type": "stream",
     "text": [
      " predicted =  69.23076923076923 % of total  26\n"
     ]
    }
   ],
   "source": [
    "test(model, test_loader)"
   ]
  },
  {
   "cell_type": "code",
   "execution_count": 16,
   "metadata": {},
   "outputs": [
    {
     "name": "stdout",
     "output_type": "stream",
     "text": [
      "torch.Size([50, 1, 50, 50])\n",
      "tensor([0, 1, 1, 1, 1, 1, 1, 1, 1, 1, 1, 1, 1, 1, 0, 0, 0, 1, 1, 1, 1, 0, 1, 0,\n",
      "        1, 0, 1, 0, 1, 0, 1, 0, 1, 1, 1, 1, 1, 1, 1, 1, 1, 0, 0, 1, 1, 0, 1, 1,\n",
      "        1, 1])\n"
     ]
    },
    {
     "ename": "RuntimeError",
     "evalue": "shape '[-1, 10000]' is invalid for input of size 125000",
     "output_type": "error",
     "traceback": [
      "\u001b[1;31m---------------------------------------------------------------------------\u001b[0m",
      "\u001b[1;31mRuntimeError\u001b[0m                              Traceback (most recent call last)",
      "\u001b[1;32m<ipython-input-16-64354d618e34>\u001b[0m in \u001b[0;36m<module>\u001b[1;34m\u001b[0m\n\u001b[0;32m     10\u001b[0m     \u001b[0mprint\u001b[0m\u001b[1;33m(\u001b[0m\u001b[0mY\u001b[0m\u001b[1;33m)\u001b[0m\u001b[1;33m\u001b[0m\u001b[1;33m\u001b[0m\u001b[0m\n\u001b[0;32m     11\u001b[0m     \u001b[1;32mbreak\u001b[0m\u001b[1;33m\u001b[0m\u001b[1;33m\u001b[0m\u001b[0m\n\u001b[1;32m---> 12\u001b[1;33m \u001b[0mX\u001b[0m\u001b[1;33m=\u001b[0m\u001b[0mX\u001b[0m\u001b[1;33m.\u001b[0m\u001b[0mview\u001b[0m\u001b[1;33m(\u001b[0m\u001b[1;33m-\u001b[0m\u001b[1;36m1\u001b[0m\u001b[1;33m,\u001b[0m \u001b[1;36m10000\u001b[0m\u001b[1;33m)\u001b[0m\u001b[1;33m\u001b[0m\u001b[1;33m\u001b[0m\u001b[0m\n\u001b[0m\u001b[0;32m     13\u001b[0m \u001b[0mprint\u001b[0m\u001b[1;33m(\u001b[0m\u001b[0mX\u001b[0m\u001b[1;33m.\u001b[0m\u001b[0mshape\u001b[0m\u001b[1;33m)\u001b[0m\u001b[1;33m\u001b[0m\u001b[1;33m\u001b[0m\u001b[0m\n\u001b[0;32m     14\u001b[0m \u001b[0mprint\u001b[0m\u001b[1;33m(\u001b[0m\u001b[0mY\u001b[0m\u001b[1;33m.\u001b[0m\u001b[0mshape\u001b[0m\u001b[1;33m)\u001b[0m\u001b[1;33m\u001b[0m\u001b[1;33m\u001b[0m\u001b[0m\n",
      "\u001b[1;31mRuntimeError\u001b[0m: shape '[-1, 10000]' is invalid for input of size 125000"
     ]
    }
   ],
   "source": [
    "\n",
    "X = []\n",
    "Y = []\n",
    "\n",
    "for i, data in enumerate(test_loader, 0):\n",
    "    image, label = data    \n",
    "    X=image\n",
    "    \n",
    "    print(image.shape)\n",
    "    Y=label\n",
    "    print(Y)\n",
    "    break\n",
    "X=X.view(-1, 10000)\n",
    "print(X.shape)\n",
    "print(Y.shape)\n",
    "tsne = TSNE(n_components=2, verbose=1, perplexity=40, n_iter=300)\n",
    "X_2d = tsne.fit_transform(X)\n"
   ]
  },
  {
   "cell_type": "code",
   "execution_count": 28,
   "metadata": {},
   "outputs": [],
   "source": [
    "copy_untrained_data = X\n",
    "pca = PCA(n_components=2, svd_solver='full')\n",
    "pca.fit(copy_untrained_data)\n",
    "X_untrained_PCA = pca.transform(copy_untrained_data)\n"
   ]
  },
  {
   "cell_type": "code",
   "execution_count": 29,
   "metadata": {},
   "outputs": [
    {
     "data": {
      "image/png": "[encoded data removed]",
      "text/plain": [
       "<Figure size 432x360 with 1 Axes>"
      ]
     },
     "metadata": {
      "needs_background": "light"
     },
     "output_type": "display_data"
    },
    {
     "data": {
      "image/png": "[encoded data removed]",
      "text/plain": [
       "<Figure size 432x360 with 1 Axes>"
      ]
     },
     "metadata": {
      "needs_background": "light"
     },
     "output_type": "display_data"
    }
   ],
   "source": [
    "numbers=[\"normal\",\"sick\"]\n",
    "\n",
    "\n",
    "plt.figure(figsize=(6, 5))\n",
    "colors = 'r', 'g'\n",
    "for i, c, label in zip(range(0,2), colors, numbers):\n",
    "    plt.scatter(X_2d[Y == i, 0], X_2d[Y == i, 1], c=c, label=label)\n",
    "plt.legend()\n",
    "plt.show()\n",
    "\n",
    "plt.figure(figsize=(6, 5))\n",
    "for i, c, label in zip(range(0,2), colors, numbers):\n",
    "    plt.scatter(X_untrained_PCA[Y == i, 0], X_untrained_PCA[Y == i, 1], c=c, label=label)\n",
    "plt.legend()\n",
    "plt.show()\n"
   ]
  },
  {
   "cell_type": "markdown",
   "metadata": {},
   "source": [
    "https://pytorch.org/hub/pytorch_vision_densenet/"
   ]
  },
  {
   "cell_type": "code",
   "execution_count": null,
   "metadata": {},
   "outputs": [],
   "source": []
  }
 ],
 "metadata": {
  "kernelspec": {
   "display_name": "Python 3",
   "language": "python",
   "name": "python3"
  },
  "language_info": {
   "codemirror_mode": {
    "name": "ipython",
    "version": 3
   },
   "file_extension": ".py",
   "mimetype": "text/x-python",
   "name": "python",
   "nbconvert_exporter": "python",
   "pygments_lexer": "ipython3",
   "version": "3.8.5"
  }
 },
 "nbformat": 4,
 "nbformat_minor": 4
}
